{
 "cells": [
  {
   "cell_type": "code",
   "execution_count": 15,
   "metadata": {},
   "outputs": [],
   "source": [
    "import pandas as pd\n",
    "import numpy as np\n",
    "from sklearn.model_selection import train_test_split, KFold\n",
    "from sklearn.ensemble import RandomForestClassifier,AdaBoostClassifier,GradientBoostingClassifier\n",
    "from sklearn.tree import DecisionTreeClassifier\n",
    "import matplotlib.pyplot as plt"
   ]
  },
  {
   "cell_type": "markdown",
   "metadata": {},
   "source": [
    "# Hotel Reservation Cancellation Prediction"
   ]
  },
  {
   "cell_type": "markdown",
   "metadata": {},
   "source": [
    "## Introduction"
   ]
  },
  {
   "cell_type": "markdown",
   "metadata": {},
   "source": [
    "In this project, I will build four ensemble models, Random Forest, AdaBoost, Gradient Boosting, and XGBoost to classify cancellation of hotel reservation. I will begin with a simple EDA section."
   ]
  },
  {
   "cell_type": "markdown",
   "metadata": {},
   "source": [
    "## Dataset Preprocessing"
   ]
  },
  {
   "cell_type": "markdown",
   "metadata": {},
   "source": [
    "The dataset I am going to use can be found at: https://www.kaggle.com/jessemostipak/hotel-booking-demand"
   ]
  },
  {
   "cell_type": "code",
   "execution_count": 2,
   "metadata": {},
   "outputs": [],
   "source": [
    "hotel = pd.read_csv('hotel_bookings.csv')"
   ]
  },
  {
   "cell_type": "code",
   "execution_count": 3,
   "metadata": {},
   "outputs": [
    {
     "data": {
      "text/plain": [
       "is_canceled\n",
       "0    75166\n",
       "1    44224\n",
       "Name: hotel, dtype: int64"
      ]
     },
     "execution_count": 3,
     "metadata": {},
     "output_type": "execute_result"
    }
   ],
   "source": [
    "# Quick look at the distribution of the response variable\n",
    "hotel.groupby(\"is_canceled\").count().iloc[:,0]"
   ]
  },
  {
   "cell_type": "code",
   "execution_count": 4,
   "metadata": {},
   "outputs": [],
   "source": [
    "# Based on the description of data, I will choose following features as predictors.\n",
    "\n",
    "col = [\"is_canceled\",\"hotel\",\"lead_time\",'stays_in_weekend_nights',\n",
    "       'stays_in_week_nights', 'adults', 'children', 'babies','meal',\n",
    "             'market_segment','is_repeated_guest','booking_changes', 'deposit_type',\n",
    "             'assigned_room_type','reserved_room_type', \n",
    "              'days_in_waiting_list', 'customer_type',\n",
    "              'required_car_parking_spaces', 'total_of_special_requests']\n",
    "hotel = hotel[col]"
   ]
  },
  {
   "cell_type": "code",
   "execution_count": 5,
   "metadata": {},
   "outputs": [
    {
     "data": {
      "text/plain": [
       "(119390, 49)"
      ]
     },
     "execution_count": 5,
     "metadata": {},
     "output_type": "execute_result"
    }
   ],
   "source": [
    "# One hot encoding\n",
    "hotel = pd.get_dummies(hotel,drop_first = True)\n",
    "# Data Size\n",
    "hotel.shape"
   ]
  },
  {
   "cell_type": "code",
   "execution_count": 6,
   "metadata": {},
   "outputs": [
    {
     "data": {
      "text/plain": [
       "Index(['is_canceled', 'lead_time', 'stays_in_weekend_nights',\n",
       "       'stays_in_week_nights', 'adults', 'children', 'babies',\n",
       "       'is_repeated_guest', 'booking_changes', 'days_in_waiting_list',\n",
       "       'required_car_parking_spaces', 'total_of_special_requests',\n",
       "       'hotel_Resort Hotel', 'meal_FB', 'meal_HB', 'meal_SC', 'meal_Undefined',\n",
       "       'market_segment_Complementary', 'market_segment_Corporate',\n",
       "       'market_segment_Direct', 'market_segment_Groups',\n",
       "       'market_segment_Offline TA/TO', 'market_segment_Online TA',\n",
       "       'market_segment_Undefined', 'deposit_type_Non Refund',\n",
       "       'deposit_type_Refundable', 'assigned_room_type_B',\n",
       "       'assigned_room_type_C', 'assigned_room_type_D', 'assigned_room_type_E',\n",
       "       'assigned_room_type_F', 'assigned_room_type_G', 'assigned_room_type_H',\n",
       "       'assigned_room_type_I', 'assigned_room_type_K', 'assigned_room_type_L',\n",
       "       'assigned_room_type_P', 'reserved_room_type_B', 'reserved_room_type_C',\n",
       "       'reserved_room_type_D', 'reserved_room_type_E', 'reserved_room_type_F',\n",
       "       'reserved_room_type_G', 'reserved_room_type_H', 'reserved_room_type_L',\n",
       "       'reserved_room_type_P', 'customer_type_Group',\n",
       "       'customer_type_Transient', 'customer_type_Transient-Party'],\n",
       "      dtype='object')"
      ]
     },
     "execution_count": 6,
     "metadata": {},
     "output_type": "execute_result"
    }
   ],
   "source": [
    "hotel.columns"
   ]
  },
  {
   "cell_type": "code",
   "execution_count": 7,
   "metadata": {},
   "outputs": [],
   "source": [
    "# convert into np.array\n",
    "data = hotel.values\n",
    "X = data[:,1:49]\n",
    "y = data[:,0]\n",
    "X_noNA = X[~np.isnan(X).any(axis=1)]\n",
    "y = y[~np.isnan(X).any(axis=1)]"
   ]
  },
  {
   "cell_type": "code",
   "execution_count": 8,
   "metadata": {},
   "outputs": [],
   "source": [
    "# train, test split\n",
    "# I first creat the train and test split. The train later will be splitted into train and validation for 10-folds CV trainning\n",
    "X_train, X_test, y_train, y_test = train_test_split(X_noNA, y, test_size=0.3, random_state=42)"
   ]
  },
  {
   "cell_type": "markdown",
   "metadata": {},
   "source": [
    "# Random forest"
   ]
  },
  {
   "cell_type": "code",
   "execution_count": 151,
   "metadata": {},
   "outputs": [],
   "source": [
    "RFC5 = RandomForestClassifier(max_depth=5, random_state=0)\n",
    "RFC10 = RandomForestClassifier(max_depth=10, random_state=1)\n",
    "RFC15 = RandomForestClassifier(max_depth=15, random_state=2)\n",
    "RFC20 = RandomForestClassifier(max_depth=20, random_state=3)\n",
    "RFC25 = RandomForestClassifier(max_depth=25, random_state=4)\n",
    "RFC30 = RandomForestClassifier(max_depth=30, random_state=5)\n",
    "RFC35 = RandomForestClassifier(max_depth=35, random_state=6)\n",
    "RFC40 = RandomForestClassifier(max_depth=40, random_state=7)\n",
    "RFC45 = RandomForestClassifier(max_depth=45, random_state=8)"
   ]
  },
  {
   "cell_type": "code",
   "execution_count": 152,
   "metadata": {},
   "outputs": [],
   "source": [
    "kf = KFold(n_splits=10)"
   ]
  },
  {
   "cell_type": "code",
   "execution_count": 153,
   "metadata": {},
   "outputs": [
    {
     "name": "stderr",
     "output_type": "stream",
     "text": [
      "C:\\Users\\Yiling Yang\\Anaconda3\\lib\\site-packages\\sklearn\\ensemble\\forest.py:245: FutureWarning: The default value of n_estimators will change from 10 in version 0.20 to 100 in 0.22.\n",
      "  \"10 in version 0.20 to 100 in 0.22.\", FutureWarning)\n",
      "C:\\Users\\Yiling Yang\\Anaconda3\\lib\\site-packages\\sklearn\\ensemble\\forest.py:245: FutureWarning: The default value of n_estimators will change from 10 in version 0.20 to 100 in 0.22.\n",
      "  \"10 in version 0.20 to 100 in 0.22.\", FutureWarning)\n",
      "C:\\Users\\Yiling Yang\\Anaconda3\\lib\\site-packages\\sklearn\\ensemble\\forest.py:245: FutureWarning: The default value of n_estimators will change from 10 in version 0.20 to 100 in 0.22.\n",
      "  \"10 in version 0.20 to 100 in 0.22.\", FutureWarning)\n",
      "C:\\Users\\Yiling Yang\\Anaconda3\\lib\\site-packages\\sklearn\\ensemble\\forest.py:245: FutureWarning: The default value of n_estimators will change from 10 in version 0.20 to 100 in 0.22.\n",
      "  \"10 in version 0.20 to 100 in 0.22.\", FutureWarning)\n",
      "C:\\Users\\Yiling Yang\\Anaconda3\\lib\\site-packages\\sklearn\\ensemble\\forest.py:245: FutureWarning: The default value of n_estimators will change from 10 in version 0.20 to 100 in 0.22.\n",
      "  \"10 in version 0.20 to 100 in 0.22.\", FutureWarning)\n",
      "C:\\Users\\Yiling Yang\\Anaconda3\\lib\\site-packages\\sklearn\\ensemble\\forest.py:245: FutureWarning: The default value of n_estimators will change from 10 in version 0.20 to 100 in 0.22.\n",
      "  \"10 in version 0.20 to 100 in 0.22.\", FutureWarning)\n",
      "C:\\Users\\Yiling Yang\\Anaconda3\\lib\\site-packages\\sklearn\\ensemble\\forest.py:245: FutureWarning: The default value of n_estimators will change from 10 in version 0.20 to 100 in 0.22.\n",
      "  \"10 in version 0.20 to 100 in 0.22.\", FutureWarning)\n",
      "C:\\Users\\Yiling Yang\\Anaconda3\\lib\\site-packages\\sklearn\\ensemble\\forest.py:245: FutureWarning: The default value of n_estimators will change from 10 in version 0.20 to 100 in 0.22.\n",
      "  \"10 in version 0.20 to 100 in 0.22.\", FutureWarning)\n",
      "C:\\Users\\Yiling Yang\\Anaconda3\\lib\\site-packages\\sklearn\\ensemble\\forest.py:245: FutureWarning: The default value of n_estimators will change from 10 in version 0.20 to 100 in 0.22.\n",
      "  \"10 in version 0.20 to 100 in 0.22.\", FutureWarning)\n"
     ]
    }
   ],
   "source": [
    "score5 = []\n",
    "score10 = []\n",
    "score15 = []\n",
    "score20 = []\n",
    "score25 = []\n",
    "score30 = []\n",
    "score35 = []\n",
    "score40 = []\n",
    "score45 = []\n",
    "for train_index, val_index in kf.split(X_train):\n",
    "    X_Ktrain, X_val = X_train[train_index], X_train[val_index]\n",
    "    y_Ktrain, y_val = y_train[train_index], y_train[val_index]\n",
    "    \n",
    "    RFC5.fit(X_Ktrain,y_Ktrain)\n",
    "    RFC10.fit(X_Ktrain,y_Ktrain)\n",
    "    RFC15.fit(X_Ktrain,y_Ktrain)\n",
    "    RFC20.fit(X_Ktrain,y_Ktrain)\n",
    "    RFC25.fit(X_Ktrain,y_Ktrain)\n",
    "    RFC30.fit(X_Ktrain,y_Ktrain)\n",
    "    RFC35.fit(X_Ktrain,y_Ktrain)\n",
    "    RFC40.fit(X_Ktrain,y_Ktrain)\n",
    "    RFC45.fit(X_Ktrain,y_Ktrain)\n",
    "    \n",
    "    score5.append(RFC5.score(X_val,y_val))\n",
    "    score10.append(RFC10.score(X_val,y_val))\n",
    "    score15.append(RFC15.score(X_val,y_val))\n",
    "    score20.append(RFC20.score(X_val,y_val))\n",
    "    score25.append(RFC25.score(X_val,y_val))\n",
    "    score30.append(RFC30.score(X_val,y_val))\n",
    "    score35.append(RFC35.score(X_val,y_val))\n",
    "    score40.append(RFC40.score(X_val,y_val))\n",
    "    score45.append(RFC45.score(X_val,y_val))\n",
    "    "
   ]
  },
  {
   "cell_type": "code",
   "execution_count": 154,
   "metadata": {},
   "outputs": [
    {
     "name": "stdout",
     "output_type": "stream",
     "text": [
      "RFC5 Avg Accuracy: 0.7879262893382792\n",
      "RFC10 Avg Accuracy: 0.8040923776474813\n",
      "RFC15 Avg Accuracy: 0.817446452076104\n",
      "RFC20 Avg Accuracy: 0.8302022256790714\n",
      "RFC25 Avg Accuracy: 0.8338039966495152\n",
      "RFC30 Avg Accuracy: 0.8313389972478162\n",
      "RFC35 Avg Accuracy: 0.8292569103745363\n",
      "RFC30 Avg Accuracy: 0.8271389254517171\n",
      "RFC35 Avg Accuracy: 0.8266363527581667\n"
     ]
    }
   ],
   "source": [
    "print(\"RFC5 Avg Accuracy:\",np.mean(score5))\n",
    "print(\"RFC10 Avg Accuracy:\",np.mean(score10))\n",
    "print(\"RFC15 Avg Accuracy:\",np.mean(score15))\n",
    "print(\"RFC20 Avg Accuracy:\",np.mean(score20))\n",
    "print(\"RFC25 Avg Accuracy:\",np.mean(score25))\n",
    "print(\"RFC30 Avg Accuracy:\",np.mean(score30))\n",
    "print(\"RFC35 Avg Accuracy:\",np.mean(score35))\n",
    "print(\"RFC40 Avg Accuracy:\",np.mean(score40))\n",
    "print(\"RFC45 Avg Accuracy:\",np.mean(score45))"
   ]
  },
  {
   "cell_type": "code",
   "execution_count": 159,
   "metadata": {},
   "outputs": [
    {
     "data": {
      "text/plain": [
       "[<matplotlib.lines.Line2D at 0x222bfba1448>]"
      ]
     },
     "execution_count": 159,
     "metadata": {},
     "output_type": "execute_result"
    },
    {
     "data": {
      "image/png": "[encoded data removed]",
      "text/plain": [
       "<Figure size 432x288 with 1 Axes>"
      ]
     },
     "metadata": {
      "needs_background": "light"
     },
     "output_type": "display_data"
    }
   ],
   "source": [
    "# Depth 25 performs best\n",
    "plt.plot([5,10,15,20,25,30,35,40,45],\n",
    "    [np.mean(score5),np.mean(score10),np.mean(score15),np.mean(score20),\n",
    "     np.mean(score25),np.mean(score30),np.mean(score35),np.mean(score40),np.mean(score45)])"
   ]
  },
  {
   "cell_type": "markdown",
   "metadata": {},
   "source": [
    "# AdaBoost"
   ]
  },
  {
   "cell_type": "code",
   "execution_count": 10,
   "metadata": {},
   "outputs": [],
   "source": [
    "# Build base calssifier\n",
    "base5 = DecisionTreeClassifier(max_depth=5)\n",
    "base10 = DecisionTreeClassifier(max_depth=10)\n",
    "base15 = DecisionTreeClassifier(max_depth=15)\n",
    "base20 = DecisionTreeClassifier(max_depth=20)\n",
    "base25 = DecisionTreeClassifier(max_depth=25)\n",
    "base30 = DecisionTreeClassifier(max_depth=30)\n",
    "base35 = DecisionTreeClassifier(max_depth=35)\n",
    "base40 = DecisionTreeClassifier(max_depth=40)\n",
    "base45 = DecisionTreeClassifier(max_depth=45)\n",
    "\n",
    "Ada5 = AdaBoostClassifier(base_estimator = base5, n_estimators=100, random_state=0)\n",
    "Ada10 = AdaBoostClassifier(base_estimator = base10, n_estimators=100, random_state=1)\n",
    "Ada15 = AdaBoostClassifier(base_estimator = base15, n_estimators=100, random_state=2)\n",
    "Ada20 = AdaBoostClassifier(base_estimator = base20, n_estimators=100, random_state=3)\n",
    "Ada25 = AdaBoostClassifier(base_estimator = base25, n_estimators=100, random_state=4)\n",
    "Ada30 = AdaBoostClassifier(base_estimator = base30, n_estimators=100, random_state=5)\n",
    "Ada35 = AdaBoostClassifier(base_estimator = base35, n_estimators=100, random_state=6)\n",
    "Ada40 = AdaBoostClassifier(base_estimator = base40, n_estimators=100, random_state=5)\n",
    "Ada45 = AdaBoostClassifier(base_estimator = base45, n_estimators=100, random_state=6)"
   ]
  },
  {
   "cell_type": "code",
   "execution_count": 12,
   "metadata": {},
   "outputs": [],
   "source": [
    "kf = KFold(n_splits=10)"
   ]
  },
  {
   "cell_type": "code",
   "execution_count": 13,
   "metadata": {},
   "outputs": [],
   "source": [
    "score5 = []\n",
    "score10 = []\n",
    "score15 = []\n",
    "score20 = []\n",
    "score25 = []\n",
    "score30 = []\n",
    "score35 = []\n",
    "score40 = []\n",
    "score45 = []\n",
    "\n",
    "for train_index, val_index in kf.split(X_train):\n",
    "    X_Ktrain, X_val = X_train[train_index], X_train[val_index]\n",
    "    y_Ktrain, y_val = y_train[train_index], y_train[val_index]\n",
    "    \n",
    "    Ada5.fit(X_Ktrain,y_Ktrain)\n",
    "    Ada10.fit(X_Ktrain,y_Ktrain)\n",
    "    Ada15.fit(X_Ktrain,y_Ktrain)\n",
    "    Ada20.fit(X_Ktrain,y_Ktrain)\n",
    "    Ada25.fit(X_Ktrain,y_Ktrain)\n",
    "    Ada30.fit(X_Ktrain,y_Ktrain)\n",
    "    Ada35.fit(X_Ktrain,y_Ktrain)\n",
    "    Ada40.fit(X_Ktrain,y_Ktrain)\n",
    "    Ada45.fit(X_Ktrain,y_Ktrain)\n",
    "    \n",
    "    score5.append(Ada5.score(X_val,y_val))\n",
    "    score10.append(Ada10.score(X_val,y_val))\n",
    "    score15.append(Ada15.score(X_val,y_val))\n",
    "    score20.append(Ada20.score(X_val,y_val))\n",
    "    score25.append(Ada25.score(X_val,y_val))\n",
    "    score30.append(Ada30.score(X_val,y_val))\n",
    "    score35.append(Ada35.score(X_val,y_val))\n",
    "    score40.append(Ada40.score(X_val,y_val))\n",
    "    score45.append(Ada45.score(X_val,y_val))"
   ]
  },
  {
   "cell_type": "code",
   "execution_count": 14,
   "metadata": {},
   "outputs": [
    {
     "name": "stdout",
     "output_type": "stream",
     "text": [
      "RFC5 Avg Accuracy: 0.822914921622592\n",
      "RFC10 Avg Accuracy: 0.8130309919827688\n",
      "RFC15 Avg Accuracy: 0.8159148019624268\n",
      "RFC20 Avg Accuracy: 0.8159626660284791\n",
      "RFC25 Avg Accuracy: 0.8168242192174227\n",
      "RFC30 Avg Accuracy: 0.817458418092617\n",
      "RFC35 Avg Accuracy: 0.8168720832834749\n",
      "RFC40 Avg Accuracy: 0.8173626899605122\n",
      "RFC45 Avg Accuracy: 0.8172190977623549\n"
     ]
    },
    {
     "data": {
      "text/plain": [
       "[<matplotlib.lines.Line2D at 0x267183e7e88>]"
      ]
     },
     "execution_count": 14,
     "metadata": {},
     "output_type": "execute_result"
    },
    {
     "data": {
      "image/png": "[encoded data removed]",
      "text/plain": [
       "<Figure size 432x288 with 1 Axes>"
      ]
     },
     "metadata": {
      "needs_background": "light"
     },
     "output_type": "display_data"
    }
   ],
   "source": [
    "print(\"RFC5 Avg Accuracy:\",np.mean(score5))\n",
    "print(\"RFC10 Avg Accuracy:\",np.mean(score10))\n",
    "print(\"RFC15 Avg Accuracy:\",np.mean(score15))\n",
    "print(\"RFC20 Avg Accuracy:\",np.mean(score20))\n",
    "print(\"RFC25 Avg Accuracy:\",np.mean(score25))\n",
    "print(\"RFC30 Avg Accuracy:\",np.mean(score30))\n",
    "print(\"RFC35 Avg Accuracy:\",np.mean(score35))\n",
    "print(\"RFC40 Avg Accuracy:\",np.mean(score40))\n",
    "print(\"RFC45 Avg Accuracy:\",np.mean(score45))\n",
    "\n",
    "# Depth 25 performs best\n",
    "plt.plot([5,10,15,20,25,30,35,40,45],\n",
    "    [np.mean(score5),np.mean(score10),np.mean(score15),np.mean(score20),\n",
    "     np.mean(score25),np.mean(score30),np.mean(score35),np.mean(score40),np.mean(score45)])"
   ]
  },
  {
   "cell_type": "markdown",
   "metadata": {},
   "source": [
    "# Gradient Boosting"
   ]
  },
  {
   "cell_type": "code",
   "execution_count": 16,
   "metadata": {},
   "outputs": [],
   "source": [
    "kf = KFold(n_splits=10)"
   ]
  },
  {
   "cell_type": "code",
   "execution_count": 19,
   "metadata": {},
   "outputs": [],
   "source": [
    "\n",
    "score10 = []\n",
    "score15 = []\n",
    "score20 = []\n",
    "score25 = []\n",
    "\n",
    "\n",
    "GBC10 = GradientBoostingClassifier(random_state=1, max_depth = 10,n_estimators = 50)\n",
    "GBC15 = GradientBoostingClassifier(random_state=2, max_depth = 15,n_estimators = 50)\n",
    "GBC20 = GradientBoostingClassifier(random_state=3, max_depth = 20,n_estimators = 50)\n",
    "GBC25 = GradientBoostingClassifier(random_state=4, max_depth = 25,n_estimators = 50)\n",
    "\n",
    "\n",
    "for train_index, val_index in kf.split(X_train):\n",
    "    X_Ktrain, X_val = X_train[train_index], X_train[val_index]\n",
    "    y_Ktrain, y_val = y_train[train_index], y_train[val_index]\n",
    "    \n",
    "    GBC10.fit(X_Ktrain,y_Ktrain)\n",
    "    GBC15.fit(X_Ktrain,y_Ktrain)\n",
    "    GBC20.fit(X_Ktrain,y_Ktrain)\n",
    "    GBC25.fit(X_Ktrain,y_Ktrain)\n",
    "\n",
    "    \n",
    "    score10.append(GBC10.score(X_val,y_val))\n",
    "    score15.append(GBC15.score(X_val,y_val))\n",
    "    score20.append(GBC20.score(X_val,y_val))\n",
    "    score25.append(GBC25.score(X_val,y_val))\n"
   ]
  },
  {
   "cell_type": "code",
   "execution_count": 20,
   "metadata": {},
   "outputs": [
    {
     "name": "stdout",
     "output_type": "stream",
     "text": [
      "RFC10 Avg Accuracy: 0.8271867895177696\n",
      "RFC15 Avg Accuracy: 0.8370587531410794\n",
      "RFC20 Avg Accuracy: 0.8312672011487375\n",
      "RFC25 Avg Accuracy: 0.8204618882374058\n"
     ]
    },
    {
     "data": {
      "text/plain": [
       "[<matplotlib.lines.Line2D at 0x267191856c8>]"
      ]
     },
     "execution_count": 20,
     "metadata": {},
     "output_type": "execute_result"
    },
    {
     "data": {
      "image/png": "[encoded data removed]",
      "text/plain": [
       "<Figure size 432x288 with 1 Axes>"
      ]
     },
     "metadata": {
      "needs_background": "light"
     },
     "output_type": "display_data"
    }
   ],
   "source": [
    "print(\"RFC10 Avg Accuracy:\",np.mean(score10))\n",
    "print(\"RFC15 Avg Accuracy:\",np.mean(score15))\n",
    "print(\"RFC20 Avg Accuracy:\",np.mean(score20))\n",
    "print(\"RFC25 Avg Accuracy:\",np.mean(score25))\n",
    "\n",
    "# Depth 25 performs best\n",
    "plt.plot([10,15,20,25],\n",
    "    [np.mean(score10),np.mean(score15),np.mean(score20),np.mean(score25)])"
   ]
  }
 ],
 "metadata": {
  "kernelspec": {
   "display_name": "Python 3",
   "language": "python",
   "name": "python3"
  },
  "language_info": {
   "codemirror_mode": {
    "name": "ipython",
    "version": 3
   },
   "file_extension": ".py",
   "mimetype": "text/x-python",
   "name": "python",
   "nbconvert_exporter": "python",
   "pygments_lexer": "ipython3",
   "version": "3.7.4"
  }
 },
 "nbformat": 4,
 "nbformat_minor": 4
}
